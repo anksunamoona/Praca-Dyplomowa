{
  "nbformat": 4,
  "nbformat_minor": 0,
  "metadata": {
    "colab": {
      "provenance": []
    },
    "kernelspec": {
      "name": "python3",
      "display_name": "Python 3"
    },
    "language_info": {
      "name": "python"
    }
  },
  "cells": [
    {
      "cell_type": "code",
      "execution_count": 17,
      "metadata": {
        "id": "l3WJh-90ZwxG"
      },
      "outputs": [],
      "source": [
        "pip -q install rdkit-pypi"
      ]
    },
    {
      "cell_type": "code",
      "source": [
        "pip -q install Pillow"
      ],
      "metadata": {
        "id": "fmIOOVdbuJBU"
      },
      "execution_count": 18,
      "outputs": []
    },
    {
      "cell_type": "code",
      "source": [
        "from rdkit import Chem, RDLogger\n",
        "from rdkit.Chem.Draw import IPythonConsole, MolsToGridImage\n",
        "import numpy as np\n",
        "import tensorflow as tf\n",
        "from tensorflow import keras\n",
        "\n",
        "RDLogger.DisableLog(\"rdApp.*\")"
      ],
      "metadata": {
        "id": "PNTXcGrxrOR3"
      },
      "execution_count": 19,
      "outputs": []
    },
    {
      "cell_type": "code",
      "source": [
        "csv_path = tf.keras.utils.get_file(\n",
        "    \"qm9.csv\", \"https://deepchemdata.s3-us-west-1.amazonaws.com/datasets/qm9.csv\"\n",
        ")\n",
        "\n",
        "data = []\n",
        "with open(csv_path, \"r\") as f:\n",
        "    for line in f.readlines()[1:]:\n",
        "        data.append(line.split(\",\")[1])\n",
        "\n",
        "# Let's look at a molecule of the dataset\n",
        "smiles = data[1000]\n",
        "print(\"SMILES:\", smiles)\n",
        "molecule = Chem.MolFromSmiles(smiles)\n",
        "print(\"Num heavy atoms:\", molecule.GetNumHeavyAtoms())\n",
        "molecule"
      ],
      "metadata": {
        "id": "_pTLMYoAuWNK",
        "colab": {
          "base_uri": "https://localhost:8080/",
          "height": 202
        },
        "outputId": "48aea147-1a1d-4f19-e4b0-064ee0b43daa"
      },
      "execution_count": 20,
      "outputs": [
        {
          "output_type": "stream",
          "name": "stdout",
          "text": [
            "SMILES: Cn1cncc1O\n",
            "Num heavy atoms: 7\n"
          ]
        },
        {
          "output_type": "execute_result",
          "data": {
            "text/plain": [
              "<rdkit.Chem.rdchem.Mol at 0x7a5844ad0c80>"
            ],
            "image/png": "[encoded data removed]"
          },
          "metadata": {},
          "execution_count": 20
        }
      ]
    },
    {
      "cell_type": "code",
      "source": [
        "atom_mapping = {\n",
        "    \"C\": 0,\n",
        "    0: \"C\",\n",
        "    \"N\": 1,\n",
        "    1: \"N\",\n",
        "    \"O\": 2,\n",
        "    2: \"O\",\n",
        "    \"F\": 3,\n",
        "    3: \"F\",\n",
        "}\n",
        "\n",
        "bond_mapping = {\n",
        "    \"SINGLE\": 0,\n",
        "    0: Chem.BondType.SINGLE,\n",
        "    \"DOUBLE\": 1,\n",
        "    1: Chem.BondType.DOUBLE,\n",
        "    \"TRIPLE\": 2,\n",
        "    2: Chem.BondType.TRIPLE,\n",
        "    \"AROMATIC\": 3,\n",
        "    3: Chem.BondType.AROMATIC,\n",
        "}\n",
        "\n",
        "NUM_ATOMS = 9  # Maximum number of atoms\n",
        "ATOM_DIM = 4 + 1  # Number of atom types\n",
        "BOND_DIM = 4 + 1  # Number of bond types\n",
        "LATENT_DIM = 64  # Size of the latent space\n",
        "\n",
        "\n",
        "def smiles_to_graph(smiles):\n",
        "    # Converts SMILES to molecule object\n",
        "    molecule = Chem.MolFromSmiles(smiles)\n",
        "\n",
        "    # Initialize adjacency and feature tensor\n",
        "    adjacency = np.zeros((BOND_DIM, NUM_ATOMS, NUM_ATOMS), \"float32\")\n",
        "    features = np.zeros((NUM_ATOMS, ATOM_DIM), \"float32\")\n",
        "\n",
        "    # loop over each atom in molecule\n",
        "    for atom in molecule.GetAtoms():\n",
        "        i = atom.GetIdx()\n",
        "        atom_type = atom_mapping[atom.GetSymbol()]\n",
        "        features[i] = np.eye(ATOM_DIM)[atom_type]\n",
        "        # loop over one-hop neighbors\n",
        "        for neighbor in atom.GetNeighbors():\n",
        "            j = neighbor.GetIdx()\n",
        "            bond = molecule.GetBondBetweenAtoms(i, j)\n",
        "            bond_type_idx = bond_mapping[bond.GetBondType().name]\n",
        "            adjacency[bond_type_idx, [i, j], [j, i]] = 1\n",
        "\n",
        "    # Where no bond, add 1 to last channel (indicating \"non-bond\")\n",
        "    # Notice: channels-first\n",
        "    adjacency[-1, np.sum(adjacency, axis=0) == 0] = 1\n",
        "\n",
        "    # Where no atom, add 1 to last column (indicating \"non-atom\")\n",
        "    features[np.where(np.sum(features, axis=1) == 0)[0], -1] = 1\n",
        "\n",
        "    return adjacency, features\n",
        "\n",
        "\n",
        "def graph_to_molecule(graph):\n",
        "    # Unpack graph\n",
        "    adjacency, features = graph\n",
        "\n",
        "    # RWMol is a molecule object intended to be edited\n",
        "    molecule = Chem.RWMol()\n",
        "\n",
        "    # Remove \"no atoms\" & atoms with no bonds\n",
        "    keep_idx = np.where(\n",
        "        (np.argmax(features, axis=1) != ATOM_DIM - 1)\n",
        "        & (np.sum(adjacency[:-1], axis=(0, 1)) != 0)\n",
        "    )[0]\n",
        "    features = features[keep_idx]\n",
        "    adjacency = adjacency[:, keep_idx, :][:, :, keep_idx]\n",
        "\n",
        "    # Add atoms to molecule\n",
        "    for atom_type_idx in np.argmax(features, axis=1):\n",
        "        atom = Chem.Atom(atom_mapping[atom_type_idx])\n",
        "        _ = molecule.AddAtom(atom)\n",
        "\n",
        "    # Add bonds between atoms in molecule; based on the upper triangles\n",
        "    # of the [symmetric] adjacency tensor\n",
        "    (bonds_ij, atoms_i, atoms_j) = np.where(np.triu(adjacency) == 1)\n",
        "    for (bond_ij, atom_i, atom_j) in zip(bonds_ij, atoms_i, atoms_j):\n",
        "        if atom_i == atom_j or bond_ij == BOND_DIM - 1:\n",
        "            continue\n",
        "        bond_type = bond_mapping[bond_ij]\n",
        "        molecule.AddBond(int(atom_i), int(atom_j), bond_type)\n",
        "\n",
        "    # Sanitize the molecule; for more information on sanitization, see\n",
        "    # https://www.rdkit.org/docs/RDKit_Book.html#molecular-sanitization\n",
        "    flag = Chem.SanitizeMol(molecule, catchErrors=True)\n",
        "    # Let's be strict. If sanitization fails, return None\n",
        "    if flag != Chem.SanitizeFlags.SANITIZE_NONE:\n",
        "        return None\n",
        "\n",
        "    return molecule\n",
        "\n",
        "\n",
        "# Test helper functions\n",
        "graph_to_molecule(smiles_to_graph(smiles))"
      ],
      "metadata": {
        "id": "azwWkBj7udOL",
        "colab": {
          "base_uri": "https://localhost:8080/",
          "height": 167
        },
        "outputId": "ce5a1578-679d-4452-9d7b-dab28285bcb7"
      },
      "execution_count": 21,
      "outputs": [
        {
          "output_type": "execute_result",
          "data": {
            "text/plain": [
              "<rdkit.Chem.rdchem.RWMol at 0x7a5842d6dbc0>"
            ],
            "image/png": "[encoded data removed]"
          },
          "metadata": {},
          "execution_count": 21
        }
      ]
    },
    {
      "cell_type": "code",
      "source": [
        "adjacency_tensor, feature_tensor = [], []\n",
        "for smiles in data[::10]:\n",
        "    adjacency, features = smiles_to_graph(smiles)\n",
        "    adjacency_tensor.append(adjacency)\n",
        "    feature_tensor.append(features)\n",
        "\n",
        "adjacency_tensor = np.array(adjacency_tensor)\n",
        "feature_tensor = np.array(feature_tensor)\n",
        "\n",
        "print(\"adjacency_tensor.shape =\", adjacency_tensor.shape)\n",
        "print(\"feature_tensor.shape =\", feature_tensor.shape)"
      ],
      "metadata": {
        "id": "BaNgU1IFur1s",
        "colab": {
          "base_uri": "https://localhost:8080/"
        },
        "outputId": "39a6777b-5925-4c40-bb4a-d39e3a0b5393"
      },
      "execution_count": 22,
      "outputs": [
        {
          "output_type": "stream",
          "name": "stdout",
          "text": [
            "adjacency_tensor.shape = (13389, 5, 9, 9)\n",
            "feature_tensor.shape = (13389, 9, 5)\n"
          ]
        }
      ]
    },
    {
      "cell_type": "code",
      "source": [
        "def GraphGenerator(\n",
        "    dense_units, dropout_rate, latent_dim, adjacency_shape, feature_shape,\n",
        "):\n",
        "    z = keras.layers.Input(shape=(LATENT_DIM,))\n",
        "    # Propagate through one or more densely connected layers\n",
        "    x = z\n",
        "    for units in dense_units:\n",
        "        x = keras.layers.Dense(units, activation=\"tanh\")(x)\n",
        "        x = keras.layers.Dropout(dropout_rate)(x)\n",
        "\n",
        "    # Map outputs of previous layer (x) to [continuous] adjacency tensors (x_adjacency)\n",
        "    x_adjacency = keras.layers.Dense(tf.math.reduce_prod(adjacency_shape))(x)\n",
        "    x_adjacency = keras.layers.Reshape(adjacency_shape)(x_adjacency)\n",
        "    # Symmetrify tensors in the last two dimensions\n",
        "    x_adjacency = (x_adjacency + tf.transpose(x_adjacency, (0, 1, 3, 2))) / 2\n",
        "    x_adjacency = keras.layers.Softmax(axis=1)(x_adjacency)\n",
        "\n",
        "    # Map outputs of previous layer (x) to [continuous] feature tensors (x_features)\n",
        "    x_features = keras.layers.Dense(tf.math.reduce_prod(feature_shape))(x)\n",
        "    x_features = keras.layers.Reshape(feature_shape)(x_features)\n",
        "    x_features = keras.layers.Softmax(axis=2)(x_features)\n",
        "\n",
        "    return keras.Model(inputs=z, outputs=[x_adjacency, x_features], name=\"Generator\")\n",
        "\n",
        "\n",
        "generator = GraphGenerator(\n",
        "    dense_units=[128, 256, 512],\n",
        "    dropout_rate=0.6,\n",
        "    latent_dim=LATENT_DIM,\n",
        "    adjacency_shape=(BOND_DIM, NUM_ATOMS, NUM_ATOMS),\n",
        "    feature_shape=(NUM_ATOMS, ATOM_DIM),\n",
        ")\n",
        "generator.summary()"
      ],
      "metadata": {
        "id": "TS3pEc00utFS",
        "colab": {
          "base_uri": "https://localhost:8080/"
        },
        "outputId": "b7af5ffb-3b50-4199-a1e8-1c454d54c23c"
      },
      "execution_count": 23,
      "outputs": [
        {
          "output_type": "stream",
          "name": "stdout",
          "text": [
            "Model: \"Generator\"\n",
            "__________________________________________________________________________________________________\n",
            " Layer (type)                Output Shape                 Param #   Connected to                  \n",
            "==================================================================================================\n",
            " input_4 (InputLayer)        [(None, 64)]                 0         []                            \n",
            "                                                                                                  \n",
            " dense_8 (Dense)             (None, 128)                  8320      ['input_4[0][0]']             \n",
            "                                                                                                  \n",
            " dropout_5 (Dropout)         (None, 128)                  0         ['dense_8[0][0]']             \n",
            "                                                                                                  \n",
            " dense_9 (Dense)             (None, 256)                  33024     ['dropout_5[0][0]']           \n",
            "                                                                                                  \n",
            " dropout_6 (Dropout)         (None, 256)                  0         ['dense_9[0][0]']             \n",
            "                                                                                                  \n",
            " dense_10 (Dense)            (None, 512)                  131584    ['dropout_6[0][0]']           \n",
            "                                                                                                  \n",
            " dropout_7 (Dropout)         (None, 512)                  0         ['dense_10[0][0]']            \n",
            "                                                                                                  \n",
            " dense_11 (Dense)            (None, 405)                  207765    ['dropout_7[0][0]']           \n",
            "                                                                                                  \n",
            " reshape_2 (Reshape)         (None, 5, 9, 9)              0         ['dense_11[0][0]']            \n",
            "                                                                                                  \n",
            " tf.compat.v1.transpose_1 (  (None, 5, 9, 9)              0         ['reshape_2[0][0]']           \n",
            " TFOpLambda)                                                                                      \n",
            "                                                                                                  \n",
            " tf.__operators__.add_1 (TF  (None, 5, 9, 9)              0         ['reshape_2[0][0]',           \n",
            " OpLambda)                                                           'tf.compat.v1.transpose_1[0][\n",
            "                                                                    0]']                          \n",
            "                                                                                                  \n",
            " dense_12 (Dense)            (None, 45)                   23085     ['dropout_7[0][0]']           \n",
            "                                                                                                  \n",
            " tf.math.truediv_1 (TFOpLam  (None, 5, 9, 9)              0         ['tf.__operators__.add_1[0][0]\n",
            " bda)                                                               ']                            \n",
            "                                                                                                  \n",
            " reshape_3 (Reshape)         (None, 9, 5)                 0         ['dense_12[0][0]']            \n",
            "                                                                                                  \n",
            " softmax_2 (Softmax)         (None, 5, 9, 9)              0         ['tf.math.truediv_1[0][0]']   \n",
            "                                                                                                  \n",
            " softmax_3 (Softmax)         (None, 9, 5)                 0         ['reshape_3[0][0]']           \n",
            "                                                                                                  \n",
            "==================================================================================================\n",
            "Total params: 403778 (1.54 MB)\n",
            "Trainable params: 403778 (1.54 MB)\n",
            "Non-trainable params: 0 (0.00 Byte)\n",
            "__________________________________________________________________________________________________\n"
          ]
        }
      ]
    },
    {
      "cell_type": "code",
      "source": [
        "class RelationalGraphConvLayer(keras.layers.Layer):\n",
        "    def __init__(\n",
        "        self,\n",
        "        units=128,\n",
        "        activation=\"relu\",\n",
        "        use_bias=False,\n",
        "        kernel_initializer=\"glorot_uniform\",\n",
        "        bias_initializer=\"zeros\",\n",
        "        kernel_regularizer=None,\n",
        "        bias_regularizer=None,\n",
        "        **kwargs\n",
        "    ):\n",
        "        super().__init__(**kwargs)\n",
        "\n",
        "        self.units = units\n",
        "        self.activation = keras.activations.get(activation)\n",
        "        self.use_bias = use_bias\n",
        "        self.kernel_initializer = keras.initializers.get(kernel_initializer)\n",
        "        self.bias_initializer = keras.initializers.get(bias_initializer)\n",
        "        self.kernel_regularizer = keras.regularizers.get(kernel_regularizer)\n",
        "        self.bias_regularizer = keras.regularizers.get(bias_regularizer)\n",
        "\n",
        "    def build(self, input_shape):\n",
        "        bond_dim = input_shape[0][1]\n",
        "        atom_dim = input_shape[1][2]\n",
        "\n",
        "        self.kernel = self.add_weight(\n",
        "            shape=(bond_dim, atom_dim, self.units),\n",
        "            initializer=self.kernel_initializer,\n",
        "            regularizer=self.kernel_regularizer,\n",
        "            trainable=True,\n",
        "            name=\"W\",\n",
        "            dtype=tf.float32,\n",
        "        )\n",
        "\n",
        "        if self.use_bias:\n",
        "            self.bias = self.add_weight(\n",
        "                shape=(bond_dim, 1, self.units),\n",
        "                initializer=self.bias_initializer,\n",
        "                regularizer=self.bias_regularizer,\n",
        "                trainable=True,\n",
        "                name=\"b\",\n",
        "                dtype=tf.float32,\n",
        "            )\n",
        "\n",
        "        self.built = True\n",
        "\n",
        "    def call(self, inputs, training=False):\n",
        "        adjacency, features = inputs\n",
        "        # Aggregate information from neighbors\n",
        "        x = tf.matmul(adjacency, features[:, None, :, :])\n",
        "        # Apply linear transformation\n",
        "        x = tf.matmul(x, self.kernel)\n",
        "        if self.use_bias:\n",
        "            x += self.bias\n",
        "        # Reduce bond types dim\n",
        "        x_reduced = tf.reduce_sum(x, axis=1)\n",
        "        # Apply non-linear transformation\n",
        "        return self.activation(x_reduced)\n",
        "\n",
        "\n",
        "def GraphDiscriminator(\n",
        "    gconv_units, dense_units, dropout_rate, adjacency_shape, feature_shape\n",
        "):\n",
        "\n",
        "    adjacency = keras.layers.Input(shape=adjacency_shape)\n",
        "    features = keras.layers.Input(shape=feature_shape)\n",
        "\n",
        "    # Propagate through one or more graph convolutional layers\n",
        "    features_transformed = features\n",
        "    for units in gconv_units:\n",
        "        features_transformed = RelationalGraphConvLayer(units)(\n",
        "            [adjacency, features_transformed]\n",
        "        )\n",
        "\n",
        "    # Reduce 2-D representation of molecule to 1-D\n",
        "    x = keras.layers.GlobalAveragePooling1D()(features_transformed)\n",
        "\n",
        "    # Propagate through one or more densely connected layers\n",
        "    for units in dense_units:\n",
        "        x = keras.layers.Dense(units, activation=\"relu\")(x)\n",
        "        x = keras.layers.Dropout(dropout_rate)(x)\n",
        "\n",
        "    # For each molecule, output a single scalar value expressing the\n",
        "    # \"realness\" of the inputted molecule\n",
        "    x_out = keras.layers.Dense(1, dtype=\"float32\")(x)\n",
        "\n",
        "    return keras.Model(inputs=[adjacency, features], outputs=x_out)\n",
        "\n",
        "\n",
        "discriminator = GraphDiscriminator(\n",
        "    gconv_units=[128, 128, 128, 128],\n",
        "    dense_units=[512, 512],\n",
        "    dropout_rate=0.6,\n",
        "    adjacency_shape=(BOND_DIM, NUM_ATOMS, NUM_ATOMS),\n",
        "    feature_shape=(NUM_ATOMS, ATOM_DIM),\n",
        ")\n",
        "discriminator.summary()"
      ],
      "metadata": {
        "id": "bZ17RFeKv_hi",
        "colab": {
          "base_uri": "https://localhost:8080/"
        },
        "outputId": "7a3c8cdb-7e05-4e6c-c9f9-4c52f7ef7fcb"
      },
      "execution_count": 24,
      "outputs": [
        {
          "output_type": "stream",
          "name": "stdout",
          "text": [
            "Model: \"model_1\"\n",
            "__________________________________________________________________________________________________\n",
            " Layer (type)                Output Shape                 Param #   Connected to                  \n",
            "==================================================================================================\n",
            " input_5 (InputLayer)        [(None, 5, 9, 9)]            0         []                            \n",
            "                                                                                                  \n",
            " input_6 (InputLayer)        [(None, 9, 5)]               0         []                            \n",
            "                                                                                                  \n",
            " relational_graph_conv_laye  (None, 9, 128)               3200      ['input_5[0][0]',             \n",
            " r_4 (RelationalGraphConvLa                                          'input_6[0][0]']             \n",
            " yer)                                                                                             \n",
            "                                                                                                  \n",
            " relational_graph_conv_laye  (None, 9, 128)               81920     ['input_5[0][0]',             \n",
            " r_5 (RelationalGraphConvLa                                          'relational_graph_conv_layer_\n",
            " yer)                                                               4[0][0]']                     \n",
            "                                                                                                  \n",
            " relational_graph_conv_laye  (None, 9, 128)               81920     ['input_5[0][0]',             \n",
            " r_6 (RelationalGraphConvLa                                          'relational_graph_conv_layer_\n",
            " yer)                                                               5[0][0]']                     \n",
            "                                                                                                  \n",
            " relational_graph_conv_laye  (None, 9, 128)               81920     ['input_5[0][0]',             \n",
            " r_7 (RelationalGraphConvLa                                          'relational_graph_conv_layer_\n",
            " yer)                                                               6[0][0]']                     \n",
            "                                                                                                  \n",
            " global_average_pooling1d_1  (None, 128)                  0         ['relational_graph_conv_layer_\n",
            "  (GlobalAveragePooling1D)                                          7[0][0]']                     \n",
            "                                                                                                  \n",
            " dense_13 (Dense)            (None, 512)                  66048     ['global_average_pooling1d_1[0\n",
            "                                                                    ][0]']                        \n",
            "                                                                                                  \n",
            " dropout_8 (Dropout)         (None, 512)                  0         ['dense_13[0][0]']            \n",
            "                                                                                                  \n",
            " dense_14 (Dense)            (None, 512)                  262656    ['dropout_8[0][0]']           \n",
            "                                                                                                  \n",
            " dropout_9 (Dropout)         (None, 512)                  0         ['dense_14[0][0]']            \n",
            "                                                                                                  \n",
            " dense_15 (Dense)            (None, 1)                    513       ['dropout_9[0][0]']           \n",
            "                                                                                                  \n",
            "==================================================================================================\n",
            "Total params: 578177 (2.21 MB)\n",
            "Trainable params: 578177 (2.21 MB)\n",
            "Non-trainable params: 0 (0.00 Byte)\n",
            "__________________________________________________________________________________________________\n"
          ]
        }
      ]
    },
    {
      "cell_type": "code",
      "source": [
        "class GraphWGAN(keras.Model):\n",
        "    def __init__(\n",
        "        self,\n",
        "        generator,\n",
        "        discriminator,\n",
        "        discriminator_steps=1,\n",
        "        generator_steps=1,\n",
        "        gp_weight=10,\n",
        "        **kwargs\n",
        "    ):\n",
        "        super().__init__(**kwargs)\n",
        "        self.generator = generator\n",
        "        self.discriminator = discriminator\n",
        "        self.discriminator_steps = discriminator_steps\n",
        "        self.generator_steps = generator_steps\n",
        "        self.gp_weight = gp_weight\n",
        "        self.latent_dim = self.generator.input_shape[-1]\n",
        "\n",
        "    def compile(self, optimizer_generator, optimizer_discriminator, **kwargs):\n",
        "        super().compile(**kwargs)\n",
        "        self.optimizer_generator = optimizer_generator\n",
        "        self.optimizer_discriminator = optimizer_discriminator\n",
        "        self.metric_generator = keras.metrics.Mean(name=\"loss_gen\")\n",
        "        self.metric_discriminator = keras.metrics.Mean(name=\"loss_dis\")\n",
        "\n",
        "    def train_step(self, inputs):\n",
        "\n",
        "        if isinstance(inputs[0], tuple):\n",
        "            inputs = inputs[0]\n",
        "\n",
        "        graph_real = inputs\n",
        "\n",
        "        self.batch_size = tf.shape(inputs[0])[0]\n",
        "\n",
        "        # Train the discriminator for one or more steps\n",
        "        for _ in range(self.discriminator_steps):\n",
        "            z = tf.random.normal((self.batch_size, self.latent_dim))\n",
        "\n",
        "            with tf.GradientTape() as tape:\n",
        "                graph_generated = self.generator(z, training=True)\n",
        "                loss = self._loss_discriminator(graph_real, graph_generated)\n",
        "\n",
        "            grads = tape.gradient(loss, self.discriminator.trainable_weights)\n",
        "            self.optimizer_discriminator.apply_gradients(\n",
        "                zip(grads, self.discriminator.trainable_weights)\n",
        "            )\n",
        "            self.metric_discriminator.update_state(loss)\n",
        "\n",
        "        # Train the generator for one or more steps\n",
        "        for _ in range(self.generator_steps):\n",
        "            z = tf.random.normal((self.batch_size, self.latent_dim))\n",
        "\n",
        "            with tf.GradientTape() as tape:\n",
        "                graph_generated = self.generator(z, training=True)\n",
        "                loss = self._loss_generator(graph_generated)\n",
        "\n",
        "                grads = tape.gradient(loss, self.generator.trainable_weights)\n",
        "                self.optimizer_generator.apply_gradients(\n",
        "                    zip(grads, self.generator.trainable_weights)\n",
        "                )\n",
        "                self.metric_generator.update_state(loss)\n",
        "\n",
        "        return {m.name: m.result() for m in self.metrics}\n",
        "\n",
        "    def _loss_discriminator(self, graph_real, graph_generated):\n",
        "        logits_real = self.discriminator(graph_real, training=True)\n",
        "        logits_generated = self.discriminator(graph_generated, training=True)\n",
        "        loss = tf.reduce_mean(logits_generated) - tf.reduce_mean(logits_real)\n",
        "        loss_gp = self._gradient_penalty(graph_real, graph_generated)\n",
        "        return loss + loss_gp * self.gp_weight\n",
        "\n",
        "    def _loss_generator(self, graph_generated):\n",
        "        logits_generated = self.discriminator(graph_generated, training=True)\n",
        "        return -tf.reduce_mean(logits_generated)\n",
        "\n",
        "    def _gradient_penalty(self, graph_real, graph_generated):\n",
        "        # Unpack graphs\n",
        "        adjacency_real, features_real = graph_real\n",
        "        adjacency_generated, features_generated = graph_generated\n",
        "\n",
        "        # Generate interpolated graphs (adjacency_interp and features_interp)\n",
        "        alpha = tf.random.uniform([self.batch_size])\n",
        "        alpha = tf.reshape(alpha, (self.batch_size, 1, 1, 1))\n",
        "        adjacency_interp = (adjacency_real * alpha) + (1 - alpha) * adjacency_generated\n",
        "        alpha = tf.reshape(alpha, (self.batch_size, 1, 1))\n",
        "        features_interp = (features_real * alpha) + (1 - alpha) * features_generated\n",
        "\n",
        "        # Compute the logits of interpolated graphs\n",
        "        with tf.GradientTape() as tape:\n",
        "            tape.watch(adjacency_interp)\n",
        "            tape.watch(features_interp)\n",
        "            logits = self.discriminator(\n",
        "                [adjacency_interp, features_interp], training=True\n",
        "            )\n",
        "\n",
        "        # Compute the gradients with respect to the interpolated graphs\n",
        "        grads = tape.gradient(logits, [adjacency_interp, features_interp])\n",
        "        # Compute the gradient penalty\n",
        "        grads_adjacency_penalty = (1 - tf.norm(grads[0], axis=1)) ** 2\n",
        "        grads_features_penalty = (1 - tf.norm(grads[1], axis=2)) ** 2\n",
        "        return tf.reduce_mean(\n",
        "            tf.reduce_mean(grads_adjacency_penalty, axis=(-2, -1))\n",
        "            + tf.reduce_mean(grads_features_penalty, axis=(-1))\n",
        "        )"
      ],
      "metadata": {
        "id": "Smp5G825u_LK"
      },
      "execution_count": 25,
      "outputs": []
    },
    {
      "cell_type": "code",
      "source": [
        "wgan = GraphWGAN(generator, discriminator, discriminator_steps=1)\n",
        "\n",
        "wgan.compile(\n",
        "    optimizer_generator=keras.optimizers.Nadam(5e-4),\n",
        "    optimizer_discriminator=keras.optimizers.Adam(5e-4),\n",
        ")\n",
        "\n",
        "wgan.fit([adjacency_tensor, feature_tensor], epochs=10, batch_size=16)"
      ],
      "metadata": {
        "id": "rYeoJBp1rTpU",
        "colab": {
          "base_uri": "https://localhost:8080/"
        },
        "outputId": "470378b7-dcd0-4542-8f47-25ef7c7fa458"
      },
      "execution_count": 26,
      "outputs": [
        {
          "output_type": "stream",
          "name": "stdout",
          "text": [
            "Epoch 1/10\n",
            "837/837 [==============================] - 114s 117ms/step - loss_gen: 3.9366 - loss_dis: -5.9388\n",
            "Epoch 2/10\n",
            "837/837 [==============================] - 89s 106ms/step - loss_gen: 1.2672 - loss_dis: -1.9309\n",
            "Epoch 3/10\n",
            "837/837 [==============================] - 90s 107ms/step - loss_gen: 1.3371 - loss_dis: -1.9753\n",
            "Epoch 4/10\n",
            "837/837 [==============================] - 89s 106ms/step - loss_gen: 1.3967 - loss_dis: -1.0978\n",
            "Epoch 5/10\n",
            "837/837 [==============================] - 90s 107ms/step - loss_gen: 0.1817 - loss_dis: -1.9658\n",
            "Epoch 6/10\n",
            "837/837 [==============================] - 89s 106ms/step - loss_gen: 0.6582 - loss_dis: -2.3206\n",
            "Epoch 7/10\n",
            "837/837 [==============================] - 90s 107ms/step - loss_gen: 0.5254 - loss_dis: -1.9583\n",
            "Epoch 8/10\n",
            "837/837 [==============================] - 90s 108ms/step - loss_gen: 0.0878 - loss_dis: -1.9773\n",
            "Epoch 9/10\n",
            "837/837 [==============================] - 90s 107ms/step - loss_gen: 0.4286 - loss_dis: -1.7836\n",
            "Epoch 10/10\n",
            "837/837 [==============================] - 90s 107ms/step - loss_gen: 0.3788 - loss_dis: -1.8813\n"
          ]
        },
        {
          "output_type": "execute_result",
          "data": {
            "text/plain": [
              "<keras.src.callbacks.History at 0x7a58cd16cd90>"
            ]
          },
          "metadata": {},
          "execution_count": 26
        }
      ]
    },
    {
      "cell_type": "code",
      "source": [
        "def sample(generator, batch_size):\n",
        "    z = tf.random.normal((batch_size, LATENT_DIM))\n",
        "    graph = generator.predict(z)\n",
        "    # obtain one-hot encoded adjacency tensor\n",
        "    adjacency = tf.argmax(graph[0], axis=1)\n",
        "    adjacency = tf.one_hot(adjacency, depth=BOND_DIM, axis=1)\n",
        "    # Remove potential self-loops from adjacency\n",
        "    adjacency = tf.linalg.set_diag(adjacency, tf.zeros(tf.shape(adjacency)[:-1]))\n",
        "    # obtain one-hot encoded feature tensor\n",
        "    features = tf.argmax(graph[1], axis=2)\n",
        "    features = tf.one_hot(features, depth=ATOM_DIM, axis=2)\n",
        "    return [\n",
        "        graph_to_molecule([adjacency[i].numpy(), features[i].numpy()])\n",
        "        for i in range(batch_size)\n",
        "    ]\n",
        "\n",
        "\n",
        "molecules = sample(wgan.generator, batch_size=48)\n",
        "\n",
        "MolsToGridImage(\n",
        "    [m for m in molecules if m is not None][:25], molsPerRow=5, subImgSize=(150, 150)\n",
        ")"
      ],
      "metadata": {
        "id": "s6dEFzC2rzo_",
        "colab": {
          "base_uri": "https://localhost:8080/",
          "height": 784
        },
        "outputId": "81bd99be-b767-4f70-b0e3-20e841e30cc8"
      },
      "execution_count": 27,
      "outputs": [
        {
          "output_type": "stream",
          "name": "stdout",
          "text": [
            "2/2 [==============================] - 0s 9ms/step\n"
          ]
        },
        {
          "output_type": "execute_result",
          "data": {
            "image/png": "[encoded data removed]",
            "text/plain": [
              "<IPython.core.display.Image object>"
            ]
          },
          "metadata": {},
          "execution_count": 27
        }
      ]
    }
  ]
}